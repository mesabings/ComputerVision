{
  "nbformat": 4,
  "nbformat_minor": 0,
  "metadata": {
    "colab": {
      "name": "ECSE415_A3_Q2.ipynb",
      "provenance": []
    },
    "kernelspec": {
      "name": "python3",
      "display_name": "Python 3"
    }
  },
  "cells": [
    {
      "cell_type": "markdown",
      "metadata": {
        "id": "tcPu4YO8lMof"
      },
      "source": [
        "# 2. Image Classification with Convolution Neural Network (CNN)."
      ]
    },
    {
      "cell_type": "code",
      "metadata": {
        "id": "_7igTMLhlQfJ"
      },
      "source": [
        "import torch\n",
        "import torchvision\n",
        "import torchvision.transforms as transforms\n",
        "\n",
        "import torch.nn as nn\n",
        "import torch.nn.functional as F"
      ],
      "execution_count": 79,
      "outputs": []
    },
    {
      "cell_type": "markdown",
      "metadata": {
        "id": "wQosoS89GpsA"
      },
      "source": [
        "## 1. Load data set"
      ]
    },
    {
      "cell_type": "code",
      "metadata": {
        "id": "-UYRStNWEV4L"
      },
      "source": [
        "# Step 1 - conver PIL to tensorand normalize data between -1 and 1\n",
        "transform = transforms.Compose(\n",
        "    [transforms.ToTensor(),\n",
        "     transforms.Normalize((0.5), (0.5))])\n",
        "\n",
        "# Step 2 - load a train set\n",
        "trainset = torchvision.datasets.MNIST(root='./data', train=True,\n",
        "                                        download=True, transform=transform)\n",
        "trainloader = torch.utils.data.DataLoader(trainset, batch_size=32,\n",
        "                                          shuffle=True, num_workers=2)\n",
        "\n",
        "# Step 3 - load a test set\n",
        "testset = torchvision.datasets.MNIST(root='./data', train=False,\n",
        "                                       download=True, transform=transform)\n",
        "testloader = torch.utils.data.DataLoader(testset, batch_size=32,\n",
        "                                         shuffle=False, num_workers=2)"
      ],
      "execution_count": 80,
      "outputs": []
    },
    {
      "cell_type": "markdown",
      "metadata": {
        "id": "t6lwVnuPGxa_"
      },
      "source": [
        "## 2. Implement a CNN"
      ]
    },
    {
      "cell_type": "code",
      "metadata": {
        "id": "PWs3TmFzG0vT"
      },
      "source": [
        "# Step 4 - defining a CNN\n",
        "class Net(nn.Module):\n",
        "    def __init__(self):\n",
        "        super(Net, self).__init__()\n",
        "        # A convolution layer with 32 kernels of size 3×3\n",
        "        self.conv1 = nn.Conv2d(1, 32, 3)\n",
        "        # A convolution layer with 64 kernels of size 3×3\n",
        "        self.conv2 = nn.Conv2d(32, 64, 3)\n",
        "        # A maxpool layer with kernels of size 2×2.\n",
        "        self.pool = nn.MaxPool2d(2, 2)\n",
        "        # A convolution layer with 64 kernels of size 3×3\n",
        "        self.conv3 = nn.Conv2d(64, 64, 3)\n",
        "        # A convolution layer with 64 kernels of size 3×3.\n",
        "        self.conv4 = nn.Conv2d(64, 64, 3)\n",
        "        # A flattening layer with input size 4096 and output size of 10.\n",
        "        self.fc1 = nn.Linear(4096, 10)\n",
        "\n",
        "    def forward(self, x):\n",
        "        #A ReLU activation for conv1\n",
        "        x = F.relu(self.conv1(x))\n",
        "        #A ReLU activation for conv2\n",
        "        x = self.pool(F.relu(self.conv2(x)))\n",
        "        #A ReLU activation for max pool & conv3\n",
        "        x = F.relu(self.conv3(x))\n",
        "        x = F.relu(self.conv4(x))\n",
        "        x = x.view(-1, 4096)\n",
        "        x = self.fc1(x)\n",
        "        return x\n",
        "\n",
        "net = Net()"
      ],
      "execution_count": 81,
      "outputs": []
    },
    {
      "cell_type": "markdown",
      "metadata": {
        "id": "NpAxrigUlZ7_"
      },
      "source": [
        "## 3. SGD optimizer"
      ]
    },
    {
      "cell_type": "code",
      "metadata": {
        "id": "8ZAW51x6lyYa"
      },
      "source": [
        "import torch.optim as optim\n",
        "\n",
        "device = torch.device(\"cuda:0\" if torch.cuda.is_available() else \"cpu\")\n",
        "\n",
        "net = Net()\n",
        "net = net.to(device)\n",
        "\n",
        "# Step 5 - define a loss funtion and optimizer\n",
        "criterion = nn.CrossEntropyLoss()\n",
        "optimizer = optim.SGD(net.parameters(), lr=0.001)"
      ],
      "execution_count": 82,
      "outputs": []
    },
    {
      "cell_type": "markdown",
      "metadata": {
        "id": "YDPHVBKSooBy"
      },
      "source": [
        "## 4. Train 10 epochs"
      ]
    },
    {
      "cell_type": "code",
      "metadata": {
        "id": "8_nJOu8zdI7R"
      },
      "source": [
        "device = torch.device(\"cuda:0\" if torch.cuda.is_available() else \"cpu\")\n",
        "\n",
        "net = Net()\n",
        "net = net.to(device)\n",
        "\n",
        "criterion = nn.CrossEntropyLoss()\n",
        "optimizer = optim.SGD(net.parameters(), lr=0.001, momentum=0.9)"
      ],
      "execution_count": 83,
      "outputs": []
    },
    {
      "cell_type": "code",
      "metadata": {
        "id": "cvL0Sg8fovYu",
        "outputId": "fa904465-c0d2-4fef-877e-bcf6cfbc8cf4",
        "colab": {
          "base_uri": "https://localhost:8080/"
        }
      },
      "source": [
        "# Step 6 - train network on training set\n",
        "for epoch in range(10):  # loop over the dataset multiple times\n",
        "    running_loss = 0.0\n",
        "    for i, data in enumerate(trainloader, 0):\n",
        "        # get the inputs; data is a list of [inputs, labels]\n",
        "        inputs, labels = data\n",
        "        inputs = inputs.to(device)\n",
        "        labels = labels.to(device)\n",
        "\n",
        "        # zero the parameter gradients\n",
        "        optimizer.zero_grad()\n",
        "\n",
        "        # forward + backward + optimize\n",
        "        outputs = net(inputs)\n",
        "        loss = criterion(outputs, labels)\n",
        "        loss.backward()\n",
        "        optimizer.step()\n",
        "\n",
        "print('Finished Training')"
      ],
      "execution_count": 84,
      "outputs": [
        {
          "output_type": "stream",
          "text": [
            "Finished Training\n"
          ],
          "name": "stdout"
        }
      ]
    },
    {
      "cell_type": "markdown",
      "metadata": {
        "id": "dEpKtRGa_DFV"
      },
      "source": [
        "## 5. Predicts labels and classification accuracy. "
      ]
    },
    {
      "cell_type": "code",
      "metadata": {
        "id": "u8z1nnJT_N31",
        "outputId": "ea2c34fe-03d3-41b4-e0f9-a61dc7f8e133",
        "colab": {
          "base_uri": "https://localhost:8080/"
        }
      },
      "source": [
        "# calculate accuracy\n",
        "correct = 0\n",
        "total = 0\n",
        "with torch.no_grad():\n",
        "    for data in testloader:\n",
        "        images, labels = data\n",
        "        images = images.to(device)\n",
        "        labels = labels.to(device)\n",
        "        outputs = net(images)\n",
        "        _, predicted = torch.max(outputs.data, 1)\n",
        "        total += labels.size(0)\n",
        "        correct += (predicted == labels).sum().item()\n",
        "\n",
        "print('Accuracy of the network on the 10000 test images: %d %%' % (\n",
        "    100 * correct / total))"
      ],
      "execution_count": 87,
      "outputs": [
        {
          "output_type": "stream",
          "text": [
            "Accuracy of the network on the 10000 test images: 98 %\n"
          ],
          "name": "stdout"
        }
      ]
    }
  ]
}