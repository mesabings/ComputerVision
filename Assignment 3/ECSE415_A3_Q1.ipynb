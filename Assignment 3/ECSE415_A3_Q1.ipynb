{
  "nbformat": 4,
  "nbformat_minor": 0,
  "metadata": {
    "colab": {
      "name": "ECSE415_A3_Q1.ipynb",
      "provenance": []
    },
    "kernelspec": {
      "name": "python3",
      "display_name": "Python 3"
    }
  },
  "cells": [
    {
      "cell_type": "code",
      "metadata": {
        "id": "F0iKYE33XPqm",
        "outputId": "13e690a4-ee9c-4744-c070-7fa1a7e6fea0",
        "colab": {
          "base_uri": "https://localhost:8080/"
        }
      },
      "source": [
        "import numpy as np\n",
        "from numpy import load\n",
        "import cv2\n",
        "import matplotlib\n",
        "import matplotlib.pyplot as plt\n",
        "from sklearn import svm\n",
        "from sklearn import datasets\n",
        "from sklearn.ensemble import RandomForestClassifier\n",
        "\n",
        "from google.colab import drive\n",
        "drive.mount('/content/drive')\n",
        "# make path\n",
        "path = '/content/drive/My Drive/ECSE416_ComputerVision/A3/'\n",
        "print(path)"
      ],
      "execution_count": 9,
      "outputs": [
        {
          "output_type": "stream",
          "text": [
            "Drive already mounted at /content/drive; to attempt to forcibly remount, call drive.mount(\"/content/drive\", force_remount=True).\n",
            "/content/drive/My Drive/ECSE416_ComputerVision/A3/\n"
          ],
          "name": "stdout"
        }
      ]
    },
    {
      "cell_type": "markdown",
      "metadata": {
        "id": "Uw3ofwGhYUbS"
      },
      "source": [
        "## 1. Image Classification using RF and SVM"
      ]
    },
    {
      "cell_type": "markdown",
      "metadata": {
        "id": "cHLo8Lcyu6Mm"
      },
      "source": [
        "SVM"
      ]
    },
    {
      "cell_type": "code",
      "metadata": {
        "id": "sK9wsz0TLhf0",
        "outputId": "f321a983-792f-4595-e93c-82611e7eb788",
        "colab": {
          "base_uri": "https://localhost:8080/"
        }
      },
      "source": [
        "# Step 1 - load the images and labels \n",
        "train_images = np.load(path+\"flower_subset.npz\")[\"train_images\"] \n",
        "train_labels = np.load(path+\"flower_subset.npz\")[\"train_labels\"] \n",
        "test_images = np.load(path+\"flower_subset.npz\")[\"test_images\"] \n",
        "test_labels = np.load(path+\"flower_subset.npz\")[\"test_labels\"]\n",
        "\n",
        "# #Step 2 - Assess the size of out images and labels\n",
        "print(\"train images dimentions: \",train_images.shape)\n",
        "print(\"train labels dimentions: \",train_labels.shape)\n",
        "print(\"test images dimentions: \",test_images.shape)\n",
        "print(\"test labels dimentions: \",test_labels.shape)\n",
        "\n",
        "# Step 3 - Resize the images from 128x128 to 64x64\n",
        "test_images_resize = []\n",
        "train_images_resize = []\n",
        "\n",
        "for i in range(1556):\n",
        "  train_images_temp = cv2.resize(train_images[i], (0,0), fx=0.5, fy=0.5)\n",
        "  train_images_resize.append(train_images_temp)\n",
        "\n",
        "train_images_resize = np.stack(train_images_resize)\n",
        "\n",
        "for i in range(90):\n",
        "  test_images_temp = cv2.resize(test_images[i], (0,0), fx=0.5, fy=0.5)\n",
        "  test_images_resize.append(test_images_temp)\n",
        "\n",
        "test_images_resize = np.stack(test_images_resize)\n",
        "\n",
        "print('\\n'+\"Resized train images dimentions: \",train_images_resize.shape)\n",
        "print(\"Resized test images dimentions: \",test_images_resize.shape)\n",
        "\n",
        "#Step 4 - extract HoG features\n",
        "img_size = (64, 64) \n",
        "cell_size = (8, 8) \n",
        "block_size = (4, 4) \n",
        "nbins = 4 \n",
        "\n",
        "hog = cv2.HOGDescriptor(_winSize=(img_size[1] // cell_size[1] * cell_size[1],\n",
        "                                  img_size[0] // cell_size[0] * cell_size[0]),\n",
        "                        _blockSize=(block_size[1] * cell_size[1],\n",
        "                                    block_size[0] * cell_size[0]),\n",
        "                        _blockStride=(cell_size[1], cell_size[0]),\n",
        "                        _cellSize=(cell_size[1], cell_size[0]),\n",
        "                        _nbins=nbins)\n",
        "\n",
        "features_train = []\n",
        "features_test = []\n",
        "\n",
        "for i in range(train_images_resize.shape[0]):\n",
        "    features_train.append(hog.compute((train_images_resize[i]*255).astype(np.uint8)).reshape(1, -1))\n",
        "features_train = np.vstack(features_train)\n",
        "\n",
        "for i in range(test_images_resize.shape[0]):\n",
        "    features_test.append(hog.compute((test_images_resize[i]*255).astype(np.uint8)).reshape(1, -1))\n",
        "features_test = np.vstack(features_test)\n",
        "\n",
        "#Step 5 - create the classifier\n",
        "clf = svm.SVC(gamma ='auto', C=1.)\n",
        "\n",
        "#Step 6 - train classifier on training set\n",
        "clf.fit(features_train,train_labels)\n",
        "\n",
        "#Step 7 - test the model, Predict labels for the test set\n",
        "predict = clf.predict(features_test)\n",
        "\n",
        "print('\\n'+\"Predicted Label:\", predict)\n",
        "print(\"Actual Label:\",test_labels)\n",
        "\n",
        "# Step 8 - calculate classifiction accurary\n",
        "correct = 0\n",
        "for i in range(len(predict)):\n",
        "    if(predict[i] == test_labels[i]):\n",
        "        correct+=1\n",
        "\n",
        "print('\\n'+\"Classification Accuracy: \" + str((correct/len(predict))*100) + \"%\")\n"
      ],
      "execution_count": 10,
      "outputs": [
        {
          "output_type": "stream",
          "text": [
            "train images dimentions:  (1556, 128, 128)\n",
            "train labels dimentions:  (1556,)\n",
            "test images dimentions:  (90, 128, 128)\n",
            "test labels dimentions:  (90,)\n",
            "\n",
            "Resized train images dimentions:  (1556, 64, 64)\n",
            "Resized test images dimentions:  (90, 64, 64)\n",
            "\n",
            "Predicted Label: [1 1 1 1 1 1 1 1 1 1 1 1 1 1 1 1 1 1 1 1 1 1 1 1 1 1 1 1 1 1 1 1 1 1 1 1 1\n",
            " 1 1 1 1 1 1 1 1 1 1 1 1 1 1 1 1 1 1 1 1 1 1 1 1 1 1 1 1 1 1 1 1 1 1 1 1 1\n",
            " 1 1 1 1 1 1 1 1 1 1 1 1 1 1 1 1]\n",
            "Actual Label: [0 0 0 0 0 0 0 0 0 0 1 1 1 1 1 1 1 1 1 1 2 2 2 2 2 2 2 2 2 2 3 3 3 3 3 3 3\n",
            " 3 3 3 4 4 4 4 4 4 4 4 4 4 5 5 5 5 5 5 5 5 5 5 6 6 6 6 6 6 6 6 6 6 7 7 7 7\n",
            " 7 7 7 7 7 7 8 8 8 8 8 8 8 8 8 8]\n",
            "\n",
            "Classification Accuracy: 11.11111111111111%\n"
          ],
          "name": "stdout"
        }
      ]
    },
    {
      "cell_type": "markdown",
      "metadata": {
        "id": "NdfaAN6OPnKq"
      },
      "source": [
        "### Acuracy of greater than 50%"
      ]
    },
    {
      "cell_type": "code",
      "metadata": {
        "id": "9oAGfbhPbkmy",
        "outputId": "8542ba7f-04d1-4389-f408-c9acf044143a",
        "colab": {
          "base_uri": "https://localhost:8080/"
        }
      },
      "source": [
        "#Step 5 - create the classifier\n",
        "clf = svm.SVC(gamma ='auto', C=100)\n",
        "\n",
        "#Step 6 - train classifier on training set\n",
        "clf.fit(features_train,train_labels)\n",
        "\n",
        "#Step 7 - test the model, Predict labels for the test set\n",
        "predict = clf.predict(features_test)\n",
        "\n",
        "print('\\n'+\"Predicted Label:\", predict)\n",
        "print(\"Actual Label:\",test_labels)\n",
        "\n",
        "# Step 8 - calculate classifiction accurary\n",
        "correct = 0\n",
        "for i in range(len(predict)):\n",
        "    if(predict[i] == test_labels[i]):\n",
        "        correct+=1\n",
        "\n",
        "print('\\n'+\"Classification Accuracy: \" + str((correct/len(predict))*100) + \"%\")"
      ],
      "execution_count": 11,
      "outputs": [
        {
          "output_type": "stream",
          "text": [
            "\n",
            "Predicted Label: [0 0 0 0 0 3 8 0 0 0 0 7 5 1 1 1 1 6 1 1 1 2 3 2 2 2 2 2 2 2 7 3 3 2 3 3 3\n",
            " 1 3 6 4 4 4 4 4 4 2 4 0 4 0 2 5 6 5 5 1 1 4 5 1 1 1 7 6 6 6 1 5 6 1 1 0 0\n",
            " 7 3 1 7 4 1 0 8 8 1 8 4 0 8 0 4]\n",
            "Actual Label: [0 0 0 0 0 0 0 0 0 0 1 1 1 1 1 1 1 1 1 1 2 2 2 2 2 2 2 2 2 2 3 3 3 3 3 3 3\n",
            " 3 3 3 4 4 4 4 4 4 4 4 4 4 5 5 5 5 5 5 5 5 5 5 6 6 6 6 6 6 6 6 6 6 7 7 7 7\n",
            " 7 7 7 7 7 7 8 8 8 8 8 8 8 8 8 8]\n",
            "\n",
            "Classification Accuracy: 55.55555555555556%\n"
          ],
          "name": "stdout"
        }
      ]
    },
    {
      "cell_type": "markdown",
      "metadata": {
        "id": "Z4zcXi7aopSW"
      },
      "source": [
        "# Random Forest"
      ]
    },
    {
      "cell_type": "code",
      "metadata": {
        "id": "lhuaPEfXowGc",
        "outputId": "6086aad7-f6d5-49a8-f9ff-5d00cffc98f8",
        "colab": {
          "base_uri": "https://localhost:8080/"
        }
      },
      "source": [
        "# Step 2 - create a Random forest classifier \n",
        "clf = RandomForestClassifier(n_estimators=10, max_depth=5, criterion='entropy')\n",
        "\n",
        "# Step 3 - train classifier on training set\n",
        "clf.fit(features_train,train_labels)\n",
        "\n",
        "# Step 4 - test the model, Predict labels for the test set\n",
        "\n",
        "predict = clf.predict(features_test)\n",
        "\n",
        "print(\"Predicted Label:\", predict)\n",
        "print(\"Actual Label:\",test_labels)\n",
        "\n",
        "\n",
        "# Step 5 - calculate classifiction accurary\n",
        "correct = 0\n",
        "for i in range(len(predict)):\n",
        "    if(predict[i] == test_labels[i]):\n",
        "        correct+=1\n",
        "\n",
        "print('\\n'+\"Classification Accuracy: \" + str((correct/len(predict))*100) + \"%\")"
      ],
      "execution_count": 12,
      "outputs": [
        {
          "output_type": "stream",
          "text": [
            "Predicted Label: [4 4 4 0 4 6 4 1 4 4 4 4 7 1 1 0 1 3 4 2 4 2 3 4 2 6 2 2 2 4 7 6 3 2 1 2 2\n",
            " 3 3 6 4 4 1 4 4 4 1 4 4 4 0 4 3 2 3 4 2 7 1 1 6 1 3 4 2 6 6 1 3 2 1 1 4 0\n",
            " 4 7 7 1 0 1 4 3 8 1 4 4 4 8 4 8]\n",
            "Actual Label: [0 0 0 0 0 0 0 0 0 0 1 1 1 1 1 1 1 1 1 1 2 2 2 2 2 2 2 2 2 2 3 3 3 3 3 3 3\n",
            " 3 3 3 4 4 4 4 4 4 4 4 4 4 5 5 5 5 5 5 5 5 5 5 6 6 6 6 6 6 6 6 6 6 7 7 7 7\n",
            " 7 7 7 7 7 7 8 8 8 8 8 8 8 8 8 8]\n",
            "\n",
            "Classification Accuracy: 31.11111111111111%\n"
          ],
          "name": "stdout"
        }
      ]
    },
    {
      "cell_type": "markdown",
      "metadata": {
        "id": "fXIIs8tucSzO"
      },
      "source": [
        "### Acuracy of greater than 50%"
      ]
    },
    {
      "cell_type": "code",
      "metadata": {
        "id": "NHxGvuPycShB",
        "outputId": "c36bceab-3e4b-452e-fe9d-29bef6651b40",
        "colab": {
          "base_uri": "https://localhost:8080/"
        }
      },
      "source": [
        "# Step 2 - create a Random forest classifier \n",
        "clf = RandomForestClassifier(n_estimators=100, max_depth=10, criterion='entropy')\n",
        "\n",
        "# Step 3 - train classifier on training set\n",
        "clf.fit(features_train,train_labels)\n",
        "\n",
        "# Step 4 - test the model, Predict labels for the test set\n",
        "\n",
        "predict = clf.predict(features_test)\n",
        "\n",
        "print(\"Predicted Label:\", predict)\n",
        "print(\"Actual Label:\",test_labels)\n",
        "\n",
        "\n",
        "# Step 5 - calculate classifiction accurary\n",
        "correct = 0\n",
        "for i in range(len(predict)):\n",
        "    if(predict[i] == test_labels[i]):\n",
        "        correct+=1\n",
        "\n",
        "print('\\n'+\"Classification Accuracy: \" + str((correct/len(predict))*100) + \"%\")"
      ],
      "execution_count": 7,
      "outputs": [
        {
          "output_type": "stream",
          "text": [
            "Predicted Label: [0 0 0 0 0 6 8 0 0 0 0 7 1 1 1 1 1 6 1 7 7 2 3 2 2 2 2 2 2 2 1 3 3 2 1 2 3\n",
            " 1 3 6 4 4 4 4 4 4 4 4 4 4 4 4 5 1 1 4 5 1 1 7 6 7 1 1 2 6 6 1 3 6 7 7 0 0\n",
            " 7 7 1 7 4 0 4 8 8 0 8 8 1 8 0 4]\n",
            "Actual Label: [0 0 0 0 0 0 0 0 0 0 1 1 1 1 1 1 1 1 1 1 2 2 2 2 2 2 2 2 2 2 3 3 3 3 3 3 3\n",
            " 3 3 3 4 4 4 4 4 4 4 4 4 4 5 5 5 5 5 5 5 5 5 5 6 6 6 6 6 6 6 6 6 6 7 7 7 7\n",
            " 7 7 7 7 7 7 8 8 8 8 8 8 8 8 8 8]\n",
            "\n",
            "Classification Accuracy: 57.77777777777777%\n"
          ],
          "name": "stdout"
        }
      ]
    },
    {
      "cell_type": "markdown",
      "metadata": {
        "id": "F5-XsT7IqgQg"
      },
      "source": [
        "Compare results of SVM and RF classifiers. Which one provides better results? Experiment training both classifiers with a range of random states (try different random values for the argument ‘random state’) and measure classification accuracy of the test set. Which classifier is more stable or robust to the change in random state?\n",
        "\n",
        "*Comparing SVM and RF with the given classifiers RF achieved a better classification acuaracy at 37.78% compared to SVM at 11.11%. RF is more roubust to change in the random state as the random sate was changed from 20 to 300 and there was no change in SVM classification accuracy. Where as a change from 20 to 300 in RF leads to a increase from 32.2% to 40% in classification accuracy.*"
      ]
    },
    {
      "cell_type": "code",
      "metadata": {
        "id": "DVueu9SN15Ia",
        "outputId": "06d8166b-b531-4442-e163-8b26f07609a5",
        "colab": {
          "base_uri": "https://localhost:8080/"
        }
      },
      "source": [
        "# SVM random_state=20\n",
        "clf = svm.SVC(gamma ='auto', C=10, random_state=20)\n",
        "\n",
        "clf.fit(features_train,train_labels)\n",
        "\n",
        "predict = clf.predict(features_test)\n",
        "\n",
        "correct = 0\n",
        "for i in range(len(predict)):\n",
        "    if(predict[i] == test_labels[i]):\n",
        "        correct+=1\n",
        "\n",
        "print(\"Classification Accuracy: \" + str((correct/len(predict))*100) + \"%\")"
      ],
      "execution_count": 35,
      "outputs": [
        {
          "output_type": "stream",
          "text": [
            "Classification Accuracy: 30.0%\n"
          ],
          "name": "stdout"
        }
      ]
    },
    {
      "cell_type": "code",
      "metadata": {
        "id": "MQqLp2UL5ix9",
        "outputId": "46dbbe8c-3967-457f-9c79-75e22aa077b2",
        "colab": {
          "base_uri": "https://localhost:8080/"
        }
      },
      "source": [
        "# SVM random_state=300\n",
        "clf = svm.SVC(gamma ='auto', C=10, random_state=300)\n",
        "\n",
        "clf.fit(features_train,train_labels)\n",
        "\n",
        "predict = clf.predict(features_test)\n",
        "\n",
        "correct = 0\n",
        "for i in range(len(predict)):\n",
        "    if(predict[i] == test_labels[i]):\n",
        "        correct+=1\n",
        "\n",
        "print(\"Classification Accuracy: \" + str((correct/len(predict))*100) + \"%\")"
      ],
      "execution_count": 36,
      "outputs": [
        {
          "output_type": "stream",
          "text": [
            "Classification Accuracy: 30.0%\n"
          ],
          "name": "stdout"
        }
      ]
    },
    {
      "cell_type": "code",
      "metadata": {
        "id": "0dkzzaRGz2L5",
        "outputId": "a355a1c8-144f-4323-bc36-8591d910f803",
        "colab": {
          "base_uri": "https://localhost:8080/"
        }
      },
      "source": [
        "# RF random_state=20\n",
        "clf = RandomForestClassifier(n_estimators=10, max_depth=10, criterion='entropy', random_state=20)\n",
        "\n",
        "clf.fit(features_train,train_labels)\n",
        "\n",
        "predict = clf.predict(features_test)\n",
        "\n",
        "correct = 0\n",
        "for i in range(len(predict)):\n",
        "    if(predict[i] == test_labels[i]):\n",
        "        correct+=1\n",
        "\n",
        "print(\"Classification Accuracy: \" + str((correct/len(predict))*100) + \"%\")"
      ],
      "execution_count": 37,
      "outputs": [
        {
          "output_type": "stream",
          "text": [
            "Classification Accuracy: 32.22222222222222%\n"
          ],
          "name": "stdout"
        }
      ]
    },
    {
      "cell_type": "code",
      "metadata": {
        "id": "iLXpB3ZL5u-V",
        "outputId": "a2b603b9-6bee-4dd6-81db-d74359f8718a",
        "colab": {
          "base_uri": "https://localhost:8080/"
        }
      },
      "source": [
        "# RF random_state=300\n",
        "clf = RandomForestClassifier(n_estimators=10, max_depth=10, criterion='entropy', random_state=300)\n",
        "\n",
        "clf.fit(features_train,train_labels)\n",
        "\n",
        "predict = clf.predict(features_test)\n",
        "\n",
        "correct = 0\n",
        "for i in range(len(predict)):\n",
        "    if(predict[i] == test_labels[i]):\n",
        "        correct+=1\n",
        "\n",
        "print(\"Classification Accuracy: \" + str((correct/len(predict))*100) + \"%\")"
      ],
      "execution_count": 38,
      "outputs": [
        {
          "output_type": "stream",
          "text": [
            "Classification Accuracy: 40.0%\n"
          ],
          "name": "stdout"
        }
      ]
    }
  ]
}